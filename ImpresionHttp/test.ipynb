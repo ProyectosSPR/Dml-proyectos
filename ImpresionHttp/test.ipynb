{
 "cells": [
  {
   "cell_type": "code",
   "execution_count": 2,
   "id": "969b2d0d",
   "metadata": {},
   "outputs": [],
   "source": [
    "import win32print\n",
    "\n",
    "def set_default_printer(printer_name):\n",
    "    try:\n",
    "        win32print.SetDefaultPrinter(printer_name)\n",
    "    except Exception as e:\n",
    "        print(f\"Error al establecer la impresora predeterminada: {e}\")\n",
    "        raise"
   ]
  },
  {
   "cell_type": "code",
   "execution_count": 5,
   "id": "07920246",
   "metadata": {},
   "outputs": [
    {
     "ename": "error",
     "evalue": "(31, 'ShellExecute', 'Uno de los dispositivos conectados al sistema no funciona.')",
     "output_type": "error",
     "traceback": [
      "\u001b[1;31m---------------------------------------------------------------------------\u001b[0m",
      "\u001b[1;31merror\u001b[0m                                     Traceback (most recent call last)",
      "Cell \u001b[1;32mIn[5], line 6\u001b[0m\n\u001b[0;32m      4\u001b[0m printer_name \u001b[38;5;241m=\u001b[39m \u001b[38;5;124m\"\u001b[39m\u001b[38;5;124mBeeprt BY-426BT\u001b[39m\u001b[38;5;124m\"\u001b[39m\n\u001b[0;32m      5\u001b[0m win32print\u001b[38;5;241m.\u001b[39mSetDefaultPrinter(printer_name)\n\u001b[1;32m----> 6\u001b[0m \u001b[43mwin32api\u001b[49m\u001b[38;5;241;43m.\u001b[39;49m\u001b[43mShellExecute\u001b[49m\u001b[43m(\u001b[49m\n\u001b[0;32m      7\u001b[0m \u001b[43m    \u001b[49m\u001b[38;5;241;43m0\u001b[39;49m\u001b[43m,\u001b[49m\n\u001b[0;32m      8\u001b[0m \u001b[43m    \u001b[49m\u001b[38;5;124;43m\"\u001b[39;49m\u001b[38;5;124;43mprint\u001b[39;49m\u001b[38;5;124;43m\"\u001b[39;49m\u001b[43m,\u001b[49m\n\u001b[0;32m      9\u001b[0m \u001b[43m    \u001b[49m\u001b[38;5;124;43m\"\u001b[39;49m\u001b[38;5;124;43mC:\u001b[39;49m\u001b[38;5;130;43;01m\\\\\u001b[39;49;00m\u001b[38;5;124;43mUsers\u001b[39;49m\u001b[38;5;130;43;01m\\\\\u001b[39;49;00m\u001b[38;5;124;43mADMIN\u001b[39;49m\u001b[38;5;130;43;01m\\\\\u001b[39;49;00m\u001b[38;5;124;43mDesktop\u001b[39;49m\u001b[38;5;130;43;01m\\\\\u001b[39;49;00m\u001b[38;5;124;43mImpresionHttp\u001b[39;49m\u001b[38;5;130;43;01m\\\\\u001b[39;49;00m\u001b[38;5;124;43muploads\u001b[39;49m\u001b[38;5;130;43;01m\\\\\u001b[39;49;00m\u001b[38;5;124;43m71AED375E1E874E1A93BB3DE7773A5AC_labels.pdf\u001b[39;49m\u001b[38;5;124;43m\"\u001b[39;49m\u001b[43m,\u001b[49m\n\u001b[0;32m     10\u001b[0m \u001b[43m    \u001b[49m\u001b[38;5;28;43;01mNone\u001b[39;49;00m\u001b[43m,\u001b[49m\n\u001b[0;32m     11\u001b[0m \u001b[43m    \u001b[49m\u001b[38;5;124;43m\"\u001b[39;49m\u001b[38;5;124;43m.\u001b[39;49m\u001b[38;5;124;43m\"\u001b[39;49m\u001b[43m,\u001b[49m\n\u001b[0;32m     12\u001b[0m \u001b[43m    \u001b[49m\u001b[38;5;241;43m0\u001b[39;49m\n\u001b[0;32m     13\u001b[0m \u001b[43m)\u001b[49m\n",
      "\u001b[1;31merror\u001b[0m: (31, 'ShellExecute', 'Uno de los dispositivos conectados al sistema no funciona.')"
     ]
    }
   ],
   "source": [
    "import win32print\n",
    "import win32api\n",
    "\n",
    "printer_name = \"Beeprt BY-426BT\"\n",
    "win32print.SetDefaultPrinter(printer_name)\n",
    "win32api.ShellExecute(\n",
    "    0,\n",
    "    \"print\",\n",
    "    \"C:\\\\Users\\\\ADMIN\\\\Desktop\\\\ImpresionHttp\\\\uploads\\\\71AED375E1E874E1A93BB3DE7773A5AC_labels.pdf\",\n",
    "    None,\n",
    "    \".\",\n",
    "    0\n",
    ")"
   ]
  },
  {
   "cell_type": "code",
   "execution_count": null,
   "id": "1a379cff",
   "metadata": {},
   "outputs": [
    {
     "ename": "error",
     "evalue": "(31, 'ShellExecute', 'Uno de los dispositivos conectados al sistema no funciona.')",
     "output_type": "error",
     "traceback": [
      "\u001b[1;31m---------------------------------------------------------------------------\u001b[0m\n",
      "\u001b[1;31merror\u001b[0m                                     Traceback (most recent call last)\n",
      "Cell \u001b[1;32mIn[5], line 6\u001b[0m\n",
      "\u001b[0;32m      4\u001b[0m printer_name \u001b[38;5;241m=\u001b[39m \u001b[38;5;124m\"\u001b[39m\u001b[38;5;124mBeeprt BY-426BT\u001b[39m\u001b[38;5;124m\"\u001b[39m\n",
      "\u001b[0;32m      5\u001b[0m win32print\u001b[38;5;241m.\u001b[39mSetDefaultPrinter(printer_name)\n",
      "\u001b[1;32m----> 6\u001b[0m \u001b[43mwin32api\u001b[49m\u001b[38;5;241;43m.\u001b[39;49m\u001b[43mShellExecute\u001b[49m\u001b[43m(\u001b[49m\n",
      "\u001b[0;32m      7\u001b[0m \u001b[43m    \u001b[49m\u001b[38;5;241;43m0\u001b[39;49m\u001b[43m,\u001b[49m\n",
      "\u001b[0;32m      8\u001b[0m \u001b[43m    \u001b[49m\u001b[38;5;124;43m\"\u001b[39;49m\u001b[38;5;124;43mprint\u001b[39;49m\u001b[38;5;124;43m\"\u001b[39;49m\u001b[43m,\u001b[49m\n",
      "\u001b[0;32m      9\u001b[0m \u001b[43m    \u001b[49m\u001b[38;5;124;43m\"\u001b[39;49m\u001b[38;5;124;43mC:\u001b[39;49m\u001b[38;5;130;43;01m\\\\\u001b[39;49;00m\u001b[38;5;124;43mUsers\u001b[39;49m\u001b[38;5;130;43;01m\\\\\u001b[39;49;00m\u001b[38;5;124;43mADMIN\u001b[39;49m\u001b[38;5;130;43;01m\\\\\u001b[39;49;00m\u001b[38;5;124;43mDesktop\u001b[39;49m\u001b[38;5;130;43;01m\\\\\u001b[39;49;00m\u001b[38;5;124;43mImpresionHttp\u001b[39;49m\u001b[38;5;130;43;01m\\\\\u001b[39;49;00m\u001b[38;5;124;43muploads\u001b[39;49m\u001b[38;5;130;43;01m\\\\\u001b[39;49;00m\u001b[38;5;124;43m71AED375E1E874E1A93BB3DE7773A5AC_labels.pdf\u001b[39;49m\u001b[38;5;124;43m\"\u001b[39;49m\u001b[43m,\u001b[49m\n",
      "\u001b[0;32m     10\u001b[0m \u001b[43m    \u001b[49m\u001b[38;5;28;43;01mNone\u001b[39;49;00m\u001b[43m,\u001b[49m\n",
      "\u001b[0;32m     11\u001b[0m \u001b[43m    \u001b[49m\u001b[38;5;124;43m\"\u001b[39;49m\u001b[38;5;124;43m.\u001b[39;49m\u001b[38;5;124;43m\"\u001b[39;49m\u001b[43m,\u001b[49m\n",
      "\u001b[0;32m     12\u001b[0m \u001b[43m    \u001b[49m\u001b[38;5;241;43m0\u001b[39;49m\n",
      "\u001b[0;32m     13\u001b[0m \u001b[43m)\u001b[49m\n",
      "\n",
      "\u001b[1;31merror\u001b[0m: (31, 'ShellExecute', 'Uno de los dispositivos conectados al sistema no funciona.')"
     ]
    }
   ],
   "source": [
    "import win32print\n",
    "import win32api\n",
    "\n",
    "printer_name = \"Beeprt BY-426BT\"\n",
    "win32print.SetDefaultPrinter(printer_name)\n",
    "win32api.ShellExecute(\n",
    "    0,\n",
    "    \"print\",\n",
    "    \"C:\\\\Users\\\\ADMIN\\\\Desktop\\\\ImpresionHttp\\\\uploads\\\\71AED375E1E874E1A93BB3DE7773A5AC_labels.pdf\",\n",
    "    None,\n",
    "    \".\",\n",
    "    0\n",
    ")"
   ]
  },
  {
   "cell_type": "code",
   "execution_count": null,
   "id": "991ca761",
   "metadata": {},
   "outputs": [
    {
     "ename": "error",
     "evalue": "(31, 'ShellExecute', 'Uno de los dispositivos conectados al sistema no funciona.')",
     "output_type": "error",
     "traceback": [
      "\u001b[1;31m---------------------------------------------------------------------------\u001b[0m\n",
      "\u001b[1;31merror\u001b[0m                                     Traceback (most recent call last)\n",
      "Cell \u001b[1;32mIn[5], line 6\u001b[0m\n",
      "\u001b[0;32m      4\u001b[0m printer_name \u001b[38;5;241m=\u001b[39m \u001b[38;5;124m\"\u001b[39m\u001b[38;5;124mBeeprt BY-426BT\u001b[39m\u001b[38;5;124m\"\u001b[39m\n",
      "\u001b[0;32m      5\u001b[0m win32print\u001b[38;5;241m.\u001b[39mSetDefaultPrinter(printer_name)\n",
      "\u001b[1;32m----> 6\u001b[0m \u001b[43mwin32api\u001b[49m\u001b[38;5;241;43m.\u001b[39;49m\u001b[43mShellExecute\u001b[49m\u001b[43m(\u001b[49m\n",
      "\u001b[0;32m      7\u001b[0m \u001b[43m    \u001b[49m\u001b[38;5;241;43m0\u001b[39;49m\u001b[43m,\u001b[49m\n",
      "\u001b[0;32m      8\u001b[0m \u001b[43m    \u001b[49m\u001b[38;5;124;43m\"\u001b[39;49m\u001b[38;5;124;43mprint\u001b[39;49m\u001b[38;5;124;43m\"\u001b[39;49m\u001b[43m,\u001b[49m\n",
      "\u001b[0;32m      9\u001b[0m \u001b[43m    \u001b[49m\u001b[38;5;124;43m\"\u001b[39;49m\u001b[38;5;124;43mC:\u001b[39;49m\u001b[38;5;130;43;01m\\\\\u001b[39;49;00m\u001b[38;5;124;43mUsers\u001b[39;49m\u001b[38;5;130;43;01m\\\\\u001b[39;49;00m\u001b[38;5;124;43mADMIN\u001b[39;49m\u001b[38;5;130;43;01m\\\\\u001b[39;49;00m\u001b[38;5;124;43mDesktop\u001b[39;49m\u001b[38;5;130;43;01m\\\\\u001b[39;49;00m\u001b[38;5;124;43mImpresionHttp\u001b[39;49m\u001b[38;5;130;43;01m\\\\\u001b[39;49;00m\u001b[38;5;124;43muploads\u001b[39;49m\u001b[38;5;130;43;01m\\\\\u001b[39;49;00m\u001b[38;5;124;43m71AED375E1E874E1A93BB3DE7773A5AC_labels.pdf\u001b[39;49m\u001b[38;5;124;43m\"\u001b[39;49m\u001b[43m,\u001b[49m\n",
      "\u001b[0;32m     10\u001b[0m \u001b[43m    \u001b[49m\u001b[38;5;28;43;01mNone\u001b[39;49;00m\u001b[43m,\u001b[49m\n",
      "\u001b[0;32m     11\u001b[0m \u001b[43m    \u001b[49m\u001b[38;5;124;43m\"\u001b[39;49m\u001b[38;5;124;43m.\u001b[39;49m\u001b[38;5;124;43m\"\u001b[39;49m\u001b[43m,\u001b[49m\n",
      "\u001b[0;32m     12\u001b[0m \u001b[43m    \u001b[49m\u001b[38;5;241;43m0\u001b[39;49m\n",
      "\u001b[0;32m     13\u001b[0m \u001b[43m)\u001b[49m\n",
      "\n",
      "\u001b[1;31merror\u001b[0m: (31, 'ShellExecute', 'Uno de los dispositivos conectados al sistema no funciona.')"
     ]
    }
   ],
   "source": [
    "import win32print\n",
    "import win32api\n",
    "\n",
    "printer_name = \"Beeprt BY-426BT\"\n",
    "win32print.SetDefaultPrinter(printer_name)\n",
    "win32api.ShellExecute(\n",
    "    0,\n",
    "    \"print\",\n",
    "    \"C:\\\\Users\\\\ADMIN\\\\Desktop\\\\ImpresionHttp\\\\uploads\\\\71AED375E1E874E1A93BB3DE7773A5AC_labels.pdf\",\n",
    "    None,\n",
    "    \".\",\n",
    "    0\n",
    ")"
   ]
  },
  {
   "cell_type": "code",
   "execution_count": null,
   "id": "e0f47956",
   "metadata": {},
   "outputs": [
    {
     "ename": "error",
     "evalue": "(31, 'ShellExecute', 'Uno de los dispositivos conectados al sistema no funciona.')",
     "output_type": "error",
     "traceback": [
      "\u001b[1;31m---------------------------------------------------------------------------\u001b[0m\n",
      "\u001b[1;31merror\u001b[0m                                     Traceback (most recent call last)\n",
      "Cell \u001b[1;32mIn[5], line 6\u001b[0m\n",
      "\u001b[0;32m      4\u001b[0m printer_name \u001b[38;5;241m=\u001b[39m \u001b[38;5;124m\"\u001b[39m\u001b[38;5;124mBeeprt BY-426BT\u001b[39m\u001b[38;5;124m\"\u001b[39m\n",
      "\u001b[0;32m      5\u001b[0m win32print\u001b[38;5;241m.\u001b[39mSetDefaultPrinter(printer_name)\n",
      "\u001b[1;32m----> 6\u001b[0m \u001b[43mwin32api\u001b[49m\u001b[38;5;241;43m.\u001b[39;49m\u001b[43mShellExecute\u001b[49m\u001b[43m(\u001b[49m\n",
      "\u001b[0;32m      7\u001b[0m \u001b[43m    \u001b[49m\u001b[38;5;241;43m0\u001b[39;49m\u001b[43m,\u001b[49m\n",
      "\u001b[0;32m      8\u001b[0m \u001b[43m    \u001b[49m\u001b[38;5;124;43m\"\u001b[39;49m\u001b[38;5;124;43mprint\u001b[39;49m\u001b[38;5;124;43m\"\u001b[39;49m\u001b[43m,\u001b[49m\n",
      "\u001b[0;32m      9\u001b[0m \u001b[43m    \u001b[49m\u001b[38;5;124;43m\"\u001b[39;49m\u001b[38;5;124;43mC:\u001b[39;49m\u001b[38;5;130;43;01m\\\\\u001b[39;49;00m\u001b[38;5;124;43mUsers\u001b[39;49m\u001b[38;5;130;43;01m\\\\\u001b[39;49;00m\u001b[38;5;124;43mADMIN\u001b[39;49m\u001b[38;5;130;43;01m\\\\\u001b[39;49;00m\u001b[38;5;124;43mDesktop\u001b[39;49m\u001b[38;5;130;43;01m\\\\\u001b[39;49;00m\u001b[38;5;124;43mImpresionHttp\u001b[39;49m\u001b[38;5;130;43;01m\\\\\u001b[39;49;00m\u001b[38;5;124;43muploads\u001b[39;49m\u001b[38;5;130;43;01m\\\\\u001b[39;49;00m\u001b[38;5;124;43m71AED375E1E874E1A93BB3DE7773A5AC_labels.pdf\u001b[39;49m\u001b[38;5;124;43m\"\u001b[39;49m\u001b[43m,\u001b[49m\n",
      "\u001b[0;32m     10\u001b[0m \u001b[43m    \u001b[49m\u001b[38;5;28;43;01mNone\u001b[39;49;00m\u001b[43m,\u001b[49m\n",
      "\u001b[0;32m     11\u001b[0m \u001b[43m    \u001b[49m\u001b[38;5;124;43m\"\u001b[39;49m\u001b[38;5;124;43m.\u001b[39;49m\u001b[38;5;124;43m\"\u001b[39;49m\u001b[43m,\u001b[49m\n",
      "\u001b[0;32m     12\u001b[0m \u001b[43m    \u001b[49m\u001b[38;5;241;43m0\u001b[39;49m\n",
      "\u001b[0;32m     13\u001b[0m \u001b[43m)\u001b[49m\n",
      "\n",
      "\u001b[1;31merror\u001b[0m: (31, 'ShellExecute', 'Uno de los dispositivos conectados al sistema no funciona.')"
     ]
    }
   ],
   "source": [
    "import win32print\n",
    "import win32api\n",
    "\n",
    "printer_name = \"Beeprt BY-426BT\"\n",
    "win32print.SetDefaultPrinter(printer_name)\n",
    "win32api.ShellExecute(\n",
    "    0,\n",
    "    \"print\",\n",
    "    \"C:\\\\Users\\\\ADMIN\\\\Desktop\\\\ImpresionHttp\\\\uploads\\\\71AED375E1E874E1A93BB3DE7773A5AC_labels.pdf\",\n",
    "    None,\n",
    "    \".\",\n",
    "    0\n",
    ")"
   ]
  },
  {
   "cell_type": "code",
   "execution_count": null,
   "id": "0956641a",
   "metadata": {},
   "outputs": [
    {
     "ename": "error",
     "evalue": "(31, 'ShellExecute', 'Uno de los dispositivos conectados al sistema no funciona.')",
     "output_type": "error",
     "traceback": [
      "\u001b[1;31m---------------------------------------------------------------------------\u001b[0m\n",
      "\u001b[1;31merror\u001b[0m                                     Traceback (most recent call last)\n",
      "Cell \u001b[1;32mIn[5], line 6\u001b[0m\n",
      "\u001b[0;32m      4\u001b[0m printer_name \u001b[38;5;241m=\u001b[39m \u001b[38;5;124m\"\u001b[39m\u001b[38;5;124mBeeprt BY-426BT\u001b[39m\u001b[38;5;124m\"\u001b[39m\n",
      "\u001b[0;32m      5\u001b[0m win32print\u001b[38;5;241m.\u001b[39mSetDefaultPrinter(printer_name)\n",
      "\u001b[1;32m----> 6\u001b[0m \u001b[43mwin32api\u001b[49m\u001b[38;5;241;43m.\u001b[39;49m\u001b[43mShellExecute\u001b[49m\u001b[43m(\u001b[49m\n",
      "\u001b[0;32m      7\u001b[0m \u001b[43m    \u001b[49m\u001b[38;5;241;43m0\u001b[39;49m\u001b[43m,\u001b[49m\n",
      "\u001b[0;32m      8\u001b[0m \u001b[43m    \u001b[49m\u001b[38;5;124;43m\"\u001b[39;49m\u001b[38;5;124;43mprint\u001b[39;49m\u001b[38;5;124;43m\"\u001b[39;49m\u001b[43m,\u001b[49m\n",
      "\u001b[0;32m      9\u001b[0m \u001b[43m    \u001b[49m\u001b[38;5;124;43m\"\u001b[39;49m\u001b[38;5;124;43mC:\u001b[39;49m\u001b[38;5;130;43;01m\\\\\u001b[39;49;00m\u001b[38;5;124;43mUsers\u001b[39;49m\u001b[38;5;130;43;01m\\\\\u001b[39;49;00m\u001b[38;5;124;43mADMIN\u001b[39;49m\u001b[38;5;130;43;01m\\\\\u001b[39;49;00m\u001b[38;5;124;43mDesktop\u001b[39;49m\u001b[38;5;130;43;01m\\\\\u001b[39;49;00m\u001b[38;5;124;43mImpresionHttp\u001b[39;49m\u001b[38;5;130;43;01m\\\\\u001b[39;49;00m\u001b[38;5;124;43muploads\u001b[39;49m\u001b[38;5;130;43;01m\\\\\u001b[39;49;00m\u001b[38;5;124;43m71AED375E1E874E1A93BB3DE7773A5AC_labels.pdf\u001b[39;49m\u001b[38;5;124;43m\"\u001b[39;49m\u001b[43m,\u001b[49m\n",
      "\u001b[0;32m     10\u001b[0m \u001b[43m    \u001b[49m\u001b[38;5;28;43;01mNone\u001b[39;49;00m\u001b[43m,\u001b[49m\n",
      "\u001b[0;32m     11\u001b[0m \u001b[43m    \u001b[49m\u001b[38;5;124;43m\"\u001b[39;49m\u001b[38;5;124;43m.\u001b[39;49m\u001b[38;5;124;43m\"\u001b[39;49m\u001b[43m,\u001b[49m\n",
      "\u001b[0;32m     12\u001b[0m \u001b[43m    \u001b[49m\u001b[38;5;241;43m0\u001b[39;49m\n",
      "\u001b[0;32m     13\u001b[0m \u001b[43m)\u001b[49m\n",
      "\n",
      "\u001b[1;31merror\u001b[0m: (31, 'ShellExecute', 'Uno de los dispositivos conectados al sistema no funciona.')"
     ]
    }
   ],
   "source": [
    "import win32print\n",
    "import win32api\n",
    "\n",
    "printer_name = \"Beeprt BY-426BT\"\n",
    "win32print.SetDefaultPrinter(printer_name)\n",
    "win32api.ShellExecute(\n",
    "    0,\n",
    "    \"print\",\n",
    "    \"C:\\\\Users\\\\ADMIN\\\\Desktop\\\\ImpresionHttp\\\\uploads\\\\71AED375E1E874E1A93BB3DE7773A5AC_labels.pdf\",\n",
    "    None,\n",
    "    \".\",\n",
    "    0\n",
    ")"
   ]
  },
  {
   "cell_type": "code",
   "execution_count": null,
   "id": "6aaf0e26",
   "metadata": {},
   "outputs": [
    {
     "ename": "error",
     "evalue": "(31, 'ShellExecute', 'Uno de los dispositivos conectados al sistema no funciona.')",
     "output_type": "error",
     "traceback": [
      "\u001b[1;31m---------------------------------------------------------------------------\u001b[0m\n",
      "\u001b[1;31merror\u001b[0m                                     Traceback (most recent call last)\n",
      "Cell \u001b[1;32mIn[5], line 6\u001b[0m\n",
      "\u001b[0;32m      4\u001b[0m printer_name \u001b[38;5;241m=\u001b[39m \u001b[38;5;124m\"\u001b[39m\u001b[38;5;124mBeeprt BY-426BT\u001b[39m\u001b[38;5;124m\"\u001b[39m\n",
      "\u001b[0;32m      5\u001b[0m win32print\u001b[38;5;241m.\u001b[39mSetDefaultPrinter(printer_name)\n",
      "\u001b[1;32m----> 6\u001b[0m \u001b[43mwin32api\u001b[49m\u001b[38;5;241;43m.\u001b[39;49m\u001b[43mShellExecute\u001b[49m\u001b[43m(\u001b[49m\n",
      "\u001b[0;32m      7\u001b[0m \u001b[43m    \u001b[49m\u001b[38;5;241;43m0\u001b[39;49m\u001b[43m,\u001b[49m\n",
      "\u001b[0;32m      8\u001b[0m \u001b[43m    \u001b[49m\u001b[38;5;124;43m\"\u001b[39;49m\u001b[38;5;124;43mprint\u001b[39;49m\u001b[38;5;124;43m\"\u001b[39;49m\u001b[43m,\u001b[49m\n",
      "\u001b[0;32m      9\u001b[0m \u001b[43m    \u001b[49m\u001b[38;5;124;43m\"\u001b[39;49m\u001b[38;5;124;43mC:\u001b[39;49m\u001b[38;5;130;43;01m\\\\\u001b[39;49;00m\u001b[38;5;124;43mUsers\u001b[39;49m\u001b[38;5;130;43;01m\\\\\u001b[39;49;00m\u001b[38;5;124;43mADMIN\u001b[39;49m\u001b[38;5;130;43;01m\\\\\u001b[39;49;00m\u001b[38;5;124;43mDesktop\u001b[39;49m\u001b[38;5;130;43;01m\\\\\u001b[39;49;00m\u001b[38;5;124;43mImpresionHttp\u001b[39;49m\u001b[38;5;130;43;01m\\\\\u001b[39;49;00m\u001b[38;5;124;43muploads\u001b[39;49m\u001b[38;5;130;43;01m\\\\\u001b[39;49;00m\u001b[38;5;124;43m71AED375E1E874E1A93BB3DE7773A5AC_labels.pdf\u001b[39;49m\u001b[38;5;124;43m\"\u001b[39;49m\u001b[43m,\u001b[49m\n",
      "\u001b[0;32m     10\u001b[0m \u001b[43m    \u001b[49m\u001b[38;5;28;43;01mNone\u001b[39;49;00m\u001b[43m,\u001b[49m\n",
      "\u001b[0;32m     11\u001b[0m \u001b[43m    \u001b[49m\u001b[38;5;124;43m\"\u001b[39;49m\u001b[38;5;124;43m.\u001b[39;49m\u001b[38;5;124;43m\"\u001b[39;49m\u001b[43m,\u001b[49m\n",
      "\u001b[0;32m     12\u001b[0m \u001b[43m    \u001b[49m\u001b[38;5;241;43m0\u001b[39;49m\n",
      "\u001b[0;32m     13\u001b[0m \u001b[43m)\u001b[49m\n",
      "\n",
      "\u001b[1;31merror\u001b[0m: (31, 'ShellExecute', 'Uno de los dispositivos conectados al sistema no funciona.')"
     ]
    }
   ],
   "source": [
    "import win32print\n",
    "import win32api\n",
    "\n",
    "printer_name = \"Beeprt BY-426BT\"\n",
    "win32print.SetDefaultPrinter(printer_name)\n",
    "win32api.ShellExecute(\n",
    "    0,\n",
    "    \"print\",\n",
    "    \"C:\\\\Users\\\\ADMIN\\\\Desktop\\\\ImpresionHttp\\\\uploads\\\\71AED375E1E874E1A93BB3DE7773A5AC_labels.pdf\",\n",
    "    None,\n",
    "    \".\",\n",
    "    0\n",
    ")"
   ]
  },
  {
   "cell_type": "code",
   "execution_count": null,
   "id": "1559ed4a",
   "metadata": {},
   "outputs": [
    {
     "ename": "error",
     "evalue": "(31, 'ShellExecute', 'Uno de los dispositivos conectados al sistema no funciona.')",
     "output_type": "error",
     "traceback": [
      "\u001b[1;31m---------------------------------------------------------------------------\u001b[0m\n",
      "\u001b[1;31merror\u001b[0m                                     Traceback (most recent call last)\n",
      "Cell \u001b[1;32mIn[5], line 6\u001b[0m\n",
      "\u001b[0;32m      4\u001b[0m printer_name \u001b[38;5;241m=\u001b[39m \u001b[38;5;124m\"\u001b[39m\u001b[38;5;124mBeeprt BY-426BT\u001b[39m\u001b[38;5;124m\"\u001b[39m\n",
      "\u001b[0;32m      5\u001b[0m win32print\u001b[38;5;241m.\u001b[39mSetDefaultPrinter(printer_name)\n",
      "\u001b[1;32m----> 6\u001b[0m \u001b[43mwin32api\u001b[49m\u001b[38;5;241;43m.\u001b[39;49m\u001b[43mShellExecute\u001b[49m\u001b[43m(\u001b[49m\n",
      "\u001b[0;32m      7\u001b[0m \u001b[43m    \u001b[49m\u001b[38;5;241;43m0\u001b[39;49m\u001b[43m,\u001b[49m\n",
      "\u001b[0;32m      8\u001b[0m \u001b[43m    \u001b[49m\u001b[38;5;124;43m\"\u001b[39;49m\u001b[38;5;124;43mprint\u001b[39;49m\u001b[38;5;124;43m\"\u001b[39;49m\u001b[43m,\u001b[49m\n",
      "\u001b[0;32m      9\u001b[0m \u001b[43m    \u001b[49m\u001b[38;5;124;43m\"\u001b[39;49m\u001b[38;5;124;43mC:\u001b[39;49m\u001b[38;5;130;43;01m\\\\\u001b[39;49;00m\u001b[38;5;124;43mUsers\u001b[39;49m\u001b[38;5;130;43;01m\\\\\u001b[39;49;00m\u001b[38;5;124;43mADMIN\u001b[39;49m\u001b[38;5;130;43;01m\\\\\u001b[39;49;00m\u001b[38;5;124;43mDesktop\u001b[39;49m\u001b[38;5;130;43;01m\\\\\u001b[39;49;00m\u001b[38;5;124;43mImpresionHttp\u001b[39;49m\u001b[38;5;130;43;01m\\\\\u001b[39;49;00m\u001b[38;5;124;43muploads\u001b[39;49m\u001b[38;5;130;43;01m\\\\\u001b[39;49;00m\u001b[38;5;124;43m71AED375E1E874E1A93BB3DE7773A5AC_labels.pdf\u001b[39;49m\u001b[38;5;124;43m\"\u001b[39;49m\u001b[43m,\u001b[49m\n",
      "\u001b[0;32m     10\u001b[0m \u001b[43m    \u001b[49m\u001b[38;5;28;43;01mNone\u001b[39;49;00m\u001b[43m,\u001b[49m\n",
      "\u001b[0;32m     11\u001b[0m \u001b[43m    \u001b[49m\u001b[38;5;124;43m\"\u001b[39;49m\u001b[38;5;124;43m.\u001b[39;49m\u001b[38;5;124;43m\"\u001b[39;49m\u001b[43m,\u001b[49m\n",
      "\u001b[0;32m     12\u001b[0m \u001b[43m    \u001b[49m\u001b[38;5;241;43m0\u001b[39;49m\n",
      "\u001b[0;32m     13\u001b[0m \u001b[43m)\u001b[49m\n",
      "\n",
      "\u001b[1;31merror\u001b[0m: (31, 'ShellExecute', 'Uno de los dispositivos conectados al sistema no funciona.')"
     ]
    }
   ],
   "source": [
    "import win32print\n",
    "import win32api\n",
    "\n",
    "printer_name = \"Beeprt BY-426BT\"\n",
    "win32print.SetDefaultPrinter(printer_name)\n",
    "win32api.ShellExecute(\n",
    "    0,\n",
    "    \"print\",\n",
    "    \"C:\\\\Users\\\\ADMIN\\\\Desktop\\\\ImpresionHttp\\\\uploads\\\\71AED375E1E874E1A93BB3DE7773A5AC_labels.pdf\",\n",
    "    None,\n",
    "    \".\",\n",
    "    0\n",
    ")"
   ]
  },
  {
   "cell_type": "code",
   "execution_count": null,
   "id": "8a887f41",
   "metadata": {},
   "outputs": [
    {
     "ename": "error",
     "evalue": "(31, 'ShellExecute', 'Uno de los dispositivos conectados al sistema no funciona.')",
     "output_type": "error",
     "traceback": [
      "\u001b[1;31m---------------------------------------------------------------------------\u001b[0m\n",
      "\u001b[1;31merror\u001b[0m                                     Traceback (most recent call last)\n",
      "Cell \u001b[1;32mIn[5], line 6\u001b[0m\n",
      "\u001b[0;32m      4\u001b[0m printer_name \u001b[38;5;241m=\u001b[39m \u001b[38;5;124m\"\u001b[39m\u001b[38;5;124mBeeprt BY-426BT\u001b[39m\u001b[38;5;124m\"\u001b[39m\n",
      "\u001b[0;32m      5\u001b[0m win32print\u001b[38;5;241m.\u001b[39mSetDefaultPrinter(printer_name)\n",
      "\u001b[1;32m----> 6\u001b[0m \u001b[43mwin32api\u001b[49m\u001b[38;5;241;43m.\u001b[39;49m\u001b[43mShellExecute\u001b[49m\u001b[43m(\u001b[49m\n",
      "\u001b[0;32m      7\u001b[0m \u001b[43m    \u001b[49m\u001b[38;5;241;43m0\u001b[39;49m\u001b[43m,\u001b[49m\n",
      "\u001b[0;32m      8\u001b[0m \u001b[43m    \u001b[49m\u001b[38;5;124;43m\"\u001b[39;49m\u001b[38;5;124;43mprint\u001b[39;49m\u001b[38;5;124;43m\"\u001b[39;49m\u001b[43m,\u001b[49m\n",
      "\u001b[0;32m      9\u001b[0m \u001b[43m    \u001b[49m\u001b[38;5;124;43m\"\u001b[39;49m\u001b[38;5;124;43mC:\u001b[39;49m\u001b[38;5;130;43;01m\\\\\u001b[39;49;00m\u001b[38;5;124;43mUsers\u001b[39;49m\u001b[38;5;130;43;01m\\\\\u001b[39;49;00m\u001b[38;5;124;43mADMIN\u001b[39;49m\u001b[38;5;130;43;01m\\\\\u001b[39;49;00m\u001b[38;5;124;43mDesktop\u001b[39;49m\u001b[38;5;130;43;01m\\\\\u001b[39;49;00m\u001b[38;5;124;43mImpresionHttp\u001b[39;49m\u001b[38;5;130;43;01m\\\\\u001b[39;49;00m\u001b[38;5;124;43muploads\u001b[39;49m\u001b[38;5;130;43;01m\\\\\u001b[39;49;00m\u001b[38;5;124;43m71AED375E1E874E1A93BB3DE7773A5AC_labels.pdf\u001b[39;49m\u001b[38;5;124;43m\"\u001b[39;49m\u001b[43m,\u001b[49m\n",
      "\u001b[0;32m     10\u001b[0m \u001b[43m    \u001b[49m\u001b[38;5;28;43;01mNone\u001b[39;49;00m\u001b[43m,\u001b[49m\n",
      "\u001b[0;32m     11\u001b[0m \u001b[43m    \u001b[49m\u001b[38;5;124;43m\"\u001b[39;49m\u001b[38;5;124;43m.\u001b[39;49m\u001b[38;5;124;43m\"\u001b[39;49m\u001b[43m,\u001b[49m\n",
      "\u001b[0;32m     12\u001b[0m \u001b[43m    \u001b[49m\u001b[38;5;241;43m0\u001b[39;49m\n",
      "\u001b[0;32m     13\u001b[0m \u001b[43m)\u001b[49m\n",
      "\n",
      "\u001b[1;31merror\u001b[0m: (31, 'ShellExecute', 'Uno de los dispositivos conectados al sistema no funciona.')"
     ]
    }
   ],
   "source": [
    "import win32print\n",
    "import win32api\n",
    "\n",
    "printer_name = \"Beeprt BY-426BT\"\n",
    "win32print.SetDefaultPrinter(printer_name)\n",
    "win32api.ShellExecute(\n",
    "    0,\n",
    "    \"print\",\n",
    "    \"C:\\\\Users\\\\ADMIN\\\\Desktop\\\\ImpresionHttp\\\\uploads\\\\71AED375E1E874E1A93BB3DE7773A5AC_labels.pdf\",\n",
    "    None,\n",
    "    \".\",\n",
    "    0\n",
    ")"
   ]
  },
  {
   "cell_type": "code",
   "execution_count": null,
   "id": "931e74a9",
   "metadata": {},
   "outputs": [
    {
     "ename": "error",
     "evalue": "(31, 'ShellExecute', 'Uno de los dispositivos conectados al sistema no funciona.')",
     "output_type": "error",
     "traceback": [
      "\u001b[1;31m---------------------------------------------------------------------------\u001b[0m\n",
      "\u001b[1;31merror\u001b[0m                                     Traceback (most recent call last)\n",
      "Cell \u001b[1;32mIn[5], line 6\u001b[0m\n",
      "\u001b[0;32m      4\u001b[0m printer_name \u001b[38;5;241m=\u001b[39m \u001b[38;5;124m\"\u001b[39m\u001b[38;5;124mBeeprt BY-426BT\u001b[39m\u001b[38;5;124m\"\u001b[39m\n",
      "\u001b[0;32m      5\u001b[0m win32print\u001b[38;5;241m.\u001b[39mSetDefaultPrinter(printer_name)\n",
      "\u001b[1;32m----> 6\u001b[0m \u001b[43mwin32api\u001b[49m\u001b[38;5;241;43m.\u001b[39;49m\u001b[43mShellExecute\u001b[49m\u001b[43m(\u001b[49m\n",
      "\u001b[0;32m      7\u001b[0m \u001b[43m    \u001b[49m\u001b[38;5;241;43m0\u001b[39;49m\u001b[43m,\u001b[49m\n",
      "\u001b[0;32m      8\u001b[0m \u001b[43m    \u001b[49m\u001b[38;5;124;43m\"\u001b[39;49m\u001b[38;5;124;43mprint\u001b[39;49m\u001b[38;5;124;43m\"\u001b[39;49m\u001b[43m,\u001b[49m\n",
      "\u001b[0;32m      9\u001b[0m \u001b[43m    \u001b[49m\u001b[38;5;124;43m\"\u001b[39;49m\u001b[38;5;124;43mC:\u001b[39;49m\u001b[38;5;130;43;01m\\\\\u001b[39;49;00m\u001b[38;5;124;43mUsers\u001b[39;49m\u001b[38;5;130;43;01m\\\\\u001b[39;49;00m\u001b[38;5;124;43mADMIN\u001b[39;49m\u001b[38;5;130;43;01m\\\\\u001b[39;49;00m\u001b[38;5;124;43mDesktop\u001b[39;49m\u001b[38;5;130;43;01m\\\\\u001b[39;49;00m\u001b[38;5;124;43mImpresionHttp\u001b[39;49m\u001b[38;5;130;43;01m\\\\\u001b[39;49;00m\u001b[38;5;124;43muploads\u001b[39;49m\u001b[38;5;130;43;01m\\\\\u001b[39;49;00m\u001b[38;5;124;43m71AED375E1E874E1A93BB3DE7773A5AC_labels.pdf\u001b[39;49m\u001b[38;5;124;43m\"\u001b[39;49m\u001b[43m,\u001b[49m\n",
      "\u001b[0;32m     10\u001b[0m \u001b[43m    \u001b[49m\u001b[38;5;28;43;01mNone\u001b[39;49;00m\u001b[43m,\u001b[49m\n",
      "\u001b[0;32m     11\u001b[0m \u001b[43m    \u001b[49m\u001b[38;5;124;43m\"\u001b[39;49m\u001b[38;5;124;43m.\u001b[39;49m\u001b[38;5;124;43m\"\u001b[39;49m\u001b[43m,\u001b[49m\n",
      "\u001b[0;32m     12\u001b[0m \u001b[43m    \u001b[49m\u001b[38;5;241;43m0\u001b[39;49m\n",
      "\u001b[0;32m     13\u001b[0m \u001b[43m)\u001b[49m\n",
      "\n",
      "\u001b[1;31merror\u001b[0m: (31, 'ShellExecute', 'Uno de los dispositivos conectados al sistema no funciona.')"
     ]
    }
   ],
   "source": [
    "import win32print\n",
    "import win32api\n",
    "\n",
    "printer_name = \"Beeprt BY-426BT\"\n",
    "win32print.SetDefaultPrinter(printer_name)\n",
    "win32api.ShellExecute(\n",
    "    0,\n",
    "    \"print\",\n",
    "    \"C:\\\\Users\\\\ADMIN\\\\Desktop\\\\ImpresionHttp\\\\uploads\\\\71AED375E1E874E1A93BB3DE7773A5AC_labels.pdf\",\n",
    "    None,\n",
    "    \".\",\n",
    "    0\n",
    ")"
   ]
  },
  {
   "cell_type": "code",
   "execution_count": null,
   "id": "3fed5545",
   "metadata": {},
   "outputs": [
    {
     "ename": "error",
     "evalue": "(31, 'ShellExecute', 'Uno de los dispositivos conectados al sistema no funciona.')",
     "output_type": "error",
     "traceback": [
      "\u001b[1;31m---------------------------------------------------------------------------\u001b[0m\n",
      "\u001b[1;31merror\u001b[0m                                     Traceback (most recent call last)\n",
      "Cell \u001b[1;32mIn[5], line 6\u001b[0m\n",
      "\u001b[0;32m      4\u001b[0m printer_name \u001b[38;5;241m=\u001b[39m \u001b[38;5;124m\"\u001b[39m\u001b[38;5;124mBeeprt BY-426BT\u001b[39m\u001b[38;5;124m\"\u001b[39m\n",
      "\u001b[0;32m      5\u001b[0m win32print\u001b[38;5;241m.\u001b[39mSetDefaultPrinter(printer_name)\n",
      "\u001b[1;32m----> 6\u001b[0m \u001b[43mwin32api\u001b[49m\u001b[38;5;241;43m.\u001b[39;49m\u001b[43mShellExecute\u001b[49m\u001b[43m(\u001b[49m\n",
      "\u001b[0;32m      7\u001b[0m \u001b[43m    \u001b[49m\u001b[38;5;241;43m0\u001b[39;49m\u001b[43m,\u001b[49m\n",
      "\u001b[0;32m      8\u001b[0m \u001b[43m    \u001b[49m\u001b[38;5;124;43m\"\u001b[39;49m\u001b[38;5;124;43mprint\u001b[39;49m\u001b[38;5;124;43m\"\u001b[39;49m\u001b[43m,\u001b[49m\n",
      "\u001b[0;32m      9\u001b[0m \u001b[43m    \u001b[49m\u001b[38;5;124;43m\"\u001b[39;49m\u001b[38;5;124;43mC:\u001b[39;49m\u001b[38;5;130;43;01m\\\\\u001b[39;49;00m\u001b[38;5;124;43mUsers\u001b[39;49m\u001b[38;5;130;43;01m\\\\\u001b[39;49;00m\u001b[38;5;124;43mADMIN\u001b[39;49m\u001b[38;5;130;43;01m\\\\\u001b[39;49;00m\u001b[38;5;124;43mDesktop\u001b[39;49m\u001b[38;5;130;43;01m\\\\\u001b[39;49;00m\u001b[38;5;124;43mImpresionHttp\u001b[39;49m\u001b[38;5;130;43;01m\\\\\u001b[39;49;00m\u001b[38;5;124;43muploads\u001b[39;49m\u001b[38;5;130;43;01m\\\\\u001b[39;49;00m\u001b[38;5;124;43m71AED375E1E874E1A93BB3DE7773A5AC_labels.pdf\u001b[39;49m\u001b[38;5;124;43m\"\u001b[39;49m\u001b[43m,\u001b[49m\n",
      "\u001b[0;32m     10\u001b[0m \u001b[43m    \u001b[49m\u001b[38;5;28;43;01mNone\u001b[39;49;00m\u001b[43m,\u001b[49m\n",
      "\u001b[0;32m     11\u001b[0m \u001b[43m    \u001b[49m\u001b[38;5;124;43m\"\u001b[39;49m\u001b[38;5;124;43m.\u001b[39;49m\u001b[38;5;124;43m\"\u001b[39;49m\u001b[43m,\u001b[49m\n",
      "\u001b[0;32m     12\u001b[0m \u001b[43m    \u001b[49m\u001b[38;5;241;43m0\u001b[39;49m\n",
      "\u001b[0;32m     13\u001b[0m \u001b[43m)\u001b[49m\n",
      "\n",
      "\u001b[1;31merror\u001b[0m: (31, 'ShellExecute', 'Uno de los dispositivos conectados al sistema no funciona.')"
     ]
    }
   ],
   "source": [
    "import win32print\n",
    "import win32api\n",
    "\n",
    "printer_name = \"Beeprt BY-426BT\"\n",
    "win32print.SetDefaultPrinter(printer_name)\n",
    "win32api.ShellExecute(\n",
    "    0,\n",
    "    \"print\",\n",
    "    \"C:\\\\Users\\\\ADMIN\\\\Desktop\\\\ImpresionHttp\\\\uploads\\\\71AED375E1E874E1A93BB3DE7773A5AC_labels.pdf\",\n",
    "    None,\n",
    "    \".\",\n",
    "    0\n",
    ")"
   ]
  },
  {
   "cell_type": "code",
   "execution_count": null,
   "id": "78330649",
   "metadata": {},
   "outputs": [
    {
     "ename": "error",
     "evalue": "(31, 'ShellExecute', 'Uno de los dispositivos conectados al sistema no funciona.')",
     "output_type": "error",
     "traceback": [
      "\u001b[1;31m---------------------------------------------------------------------------\u001b[0m\n",
      "\u001b[1;31merror\u001b[0m                                     Traceback (most recent call last)\n",
      "Cell \u001b[1;32mIn[5], line 6\u001b[0m\n",
      "\u001b[0;32m      4\u001b[0m printer_name \u001b[38;5;241m=\u001b[39m \u001b[38;5;124m\"\u001b[39m\u001b[38;5;124mBeeprt BY-426BT\u001b[39m\u001b[38;5;124m\"\u001b[39m\n",
      "\u001b[0;32m      5\u001b[0m win32print\u001b[38;5;241m.\u001b[39mSetDefaultPrinter(printer_name)\n",
      "\u001b[1;32m----> 6\u001b[0m \u001b[43mwin32api\u001b[49m\u001b[38;5;241;43m.\u001b[39;49m\u001b[43mShellExecute\u001b[49m\u001b[43m(\u001b[49m\n",
      "\u001b[0;32m      7\u001b[0m \u001b[43m    \u001b[49m\u001b[38;5;241;43m0\u001b[39;49m\u001b[43m,\u001b[49m\n",
      "\u001b[0;32m      8\u001b[0m \u001b[43m    \u001b[49m\u001b[38;5;124;43m\"\u001b[39;49m\u001b[38;5;124;43mprint\u001b[39;49m\u001b[38;5;124;43m\"\u001b[39;49m\u001b[43m,\u001b[49m\n",
      "\u001b[0;32m      9\u001b[0m \u001b[43m    \u001b[49m\u001b[38;5;124;43m\"\u001b[39;49m\u001b[38;5;124;43mC:\u001b[39;49m\u001b[38;5;130;43;01m\\\\\u001b[39;49;00m\u001b[38;5;124;43mUsers\u001b[39;49m\u001b[38;5;130;43;01m\\\\\u001b[39;49;00m\u001b[38;5;124;43mADMIN\u001b[39;49m\u001b[38;5;130;43;01m\\\\\u001b[39;49;00m\u001b[38;5;124;43mDesktop\u001b[39;49m\u001b[38;5;130;43;01m\\\\\u001b[39;49;00m\u001b[38;5;124;43mImpresionHttp\u001b[39;49m\u001b[38;5;130;43;01m\\\\\u001b[39;49;00m\u001b[38;5;124;43muploads\u001b[39;49m\u001b[38;5;130;43;01m\\\\\u001b[39;49;00m\u001b[38;5;124;43m71AED375E1E874E1A93BB3DE7773A5AC_labels.pdf\u001b[39;49m\u001b[38;5;124;43m\"\u001b[39;49m\u001b[43m,\u001b[49m\n",
      "\u001b[0;32m     10\u001b[0m \u001b[43m    \u001b[49m\u001b[38;5;28;43;01mNone\u001b[39;49;00m\u001b[43m,\u001b[49m\n",
      "\u001b[0;32m     11\u001b[0m \u001b[43m    \u001b[49m\u001b[38;5;124;43m\"\u001b[39;49m\u001b[38;5;124;43m.\u001b[39;49m\u001b[38;5;124;43m\"\u001b[39;49m\u001b[43m,\u001b[49m\n",
      "\u001b[0;32m     12\u001b[0m \u001b[43m    \u001b[49m\u001b[38;5;241;43m0\u001b[39;49m\n",
      "\u001b[0;32m     13\u001b[0m \u001b[43m)\u001b[49m\n",
      "\n",
      "\u001b[1;31merror\u001b[0m: (31, 'ShellExecute', 'Uno de los dispositivos conectados al sistema no funciona.')"
     ]
    }
   ],
   "source": [
    "import win32print\n",
    "import win32api\n",
    "\n",
    "printer_name = \"Beeprt BY-426BT\"\n",
    "win32print.SetDefaultPrinter(printer_name)\n",
    "win32api.ShellExecute(\n",
    "    0,\n",
    "    \"print\",\n",
    "    \"C:\\\\Users\\\\ADMIN\\\\Desktop\\\\ImpresionHttp\\\\uploads\\\\71AED375E1E874E1A93BB3DE7773A5AC_labels.pdf\",\n",
    "    None,\n",
    "    \".\",\n",
    "    0\n",
    ")"
   ]
  },
  {
   "cell_type": "code",
   "execution_count": null,
   "id": "f5e1c803",
   "metadata": {},
   "outputs": [
    {
     "ename": "error",
     "evalue": "(31, 'ShellExecute', 'Uno de los dispositivos conectados al sistema no funciona.')",
     "output_type": "error",
     "traceback": [
      "\u001b[1;31m---------------------------------------------------------------------------\u001b[0m\n",
      "\u001b[1;31merror\u001b[0m                                     Traceback (most recent call last)\n",
      "Cell \u001b[1;32mIn[5], line 6\u001b[0m\n",
      "\u001b[0;32m      4\u001b[0m printer_name \u001b[38;5;241m=\u001b[39m \u001b[38;5;124m\"\u001b[39m\u001b[38;5;124mBeeprt BY-426BT\u001b[39m\u001b[38;5;124m\"\u001b[39m\n",
      "\u001b[0;32m      5\u001b[0m win32print\u001b[38;5;241m.\u001b[39mSetDefaultPrinter(printer_name)\n",
      "\u001b[1;32m----> 6\u001b[0m \u001b[43mwin32api\u001b[49m\u001b[38;5;241;43m.\u001b[39;49m\u001b[43mShellExecute\u001b[49m\u001b[43m(\u001b[49m\n",
      "\u001b[0;32m      7\u001b[0m \u001b[43m    \u001b[49m\u001b[38;5;241;43m0\u001b[39;49m\u001b[43m,\u001b[49m\n",
      "\u001b[0;32m      8\u001b[0m \u001b[43m    \u001b[49m\u001b[38;5;124;43m\"\u001b[39;49m\u001b[38;5;124;43mprint\u001b[39;49m\u001b[38;5;124;43m\"\u001b[39;49m\u001b[43m,\u001b[49m\n",
      "\u001b[0;32m      9\u001b[0m \u001b[43m    \u001b[49m\u001b[38;5;124;43m\"\u001b[39;49m\u001b[38;5;124;43mC:\u001b[39;49m\u001b[38;5;130;43;01m\\\\\u001b[39;49;00m\u001b[38;5;124;43mUsers\u001b[39;49m\u001b[38;5;130;43;01m\\\\\u001b[39;49;00m\u001b[38;5;124;43mADMIN\u001b[39;49m\u001b[38;5;130;43;01m\\\\\u001b[39;49;00m\u001b[38;5;124;43mDesktop\u001b[39;49m\u001b[38;5;130;43;01m\\\\\u001b[39;49;00m\u001b[38;5;124;43mImpresionHttp\u001b[39;49m\u001b[38;5;130;43;01m\\\\\u001b[39;49;00m\u001b[38;5;124;43muploads\u001b[39;49m\u001b[38;5;130;43;01m\\\\\u001b[39;49;00m\u001b[38;5;124;43m71AED375E1E874E1A93BB3DE7773A5AC_labels.pdf\u001b[39;49m\u001b[38;5;124;43m\"\u001b[39;49m\u001b[43m,\u001b[49m\n",
      "\u001b[0;32m     10\u001b[0m \u001b[43m    \u001b[49m\u001b[38;5;28;43;01mNone\u001b[39;49;00m\u001b[43m,\u001b[49m\n",
      "\u001b[0;32m     11\u001b[0m \u001b[43m    \u001b[49m\u001b[38;5;124;43m\"\u001b[39;49m\u001b[38;5;124;43m.\u001b[39;49m\u001b[38;5;124;43m\"\u001b[39;49m\u001b[43m,\u001b[49m\n",
      "\u001b[0;32m     12\u001b[0m \u001b[43m    \u001b[49m\u001b[38;5;241;43m0\u001b[39;49m\n",
      "\u001b[0;32m     13\u001b[0m \u001b[43m)\u001b[49m\n",
      "\n",
      "\u001b[1;31merror\u001b[0m: (31, 'ShellExecute', 'Uno de los dispositivos conectados al sistema no funciona.')"
     ]
    }
   ],
   "source": [
    "import win32print\n",
    "import win32api\n",
    "\n",
    "printer_name = \"Beeprt BY-426BT\"\n",
    "win32print.SetDefaultPrinter(printer_name)\n",
    "win32api.ShellExecute(\n",
    "    0,\n",
    "    \"print\",\n",
    "    \"C:\\\\Users\\\\ADMIN\\\\Desktop\\\\ImpresionHttp\\\\uploads\\\\71AED375E1E874E1A93BB3DE7773A5AC_labels.pdf\",\n",
    "    None,\n",
    "    \".\",\n",
    "    0\n",
    ")"
   ]
  },
  {
   "cell_type": "code",
   "execution_count": null,
   "id": "7ae5a119",
   "metadata": {},
   "outputs": [
    {
     "ename": "error",
     "evalue": "(31, 'ShellExecute', 'Uno de los dispositivos conectados al sistema no funciona.')",
     "output_type": "error",
     "traceback": [
      "\u001b[1;31m---------------------------------------------------------------------------\u001b[0m\n",
      "\u001b[1;31merror\u001b[0m                                     Traceback (most recent call last)\n",
      "Cell \u001b[1;32mIn[5], line 6\u001b[0m\n",
      "\u001b[0;32m      4\u001b[0m printer_name \u001b[38;5;241m=\u001b[39m \u001b[38;5;124m\"\u001b[39m\u001b[38;5;124mBeeprt BY-426BT\u001b[39m\u001b[38;5;124m\"\u001b[39m\n",
      "\u001b[0;32m      5\u001b[0m win32print\u001b[38;5;241m.\u001b[39mSetDefaultPrinter(printer_name)\n",
      "\u001b[1;32m----> 6\u001b[0m \u001b[43mwin32api\u001b[49m\u001b[38;5;241;43m.\u001b[39;49m\u001b[43mShellExecute\u001b[49m\u001b[43m(\u001b[49m\n",
      "\u001b[0;32m      7\u001b[0m \u001b[43m    \u001b[49m\u001b[38;5;241;43m0\u001b[39;49m\u001b[43m,\u001b[49m\n",
      "\u001b[0;32m      8\u001b[0m \u001b[43m    \u001b[49m\u001b[38;5;124;43m\"\u001b[39;49m\u001b[38;5;124;43mprint\u001b[39;49m\u001b[38;5;124;43m\"\u001b[39;49m\u001b[43m,\u001b[49m\n",
      "\u001b[0;32m      9\u001b[0m \u001b[43m    \u001b[49m\u001b[38;5;124;43m\"\u001b[39;49m\u001b[38;5;124;43mC:\u001b[39;49m\u001b[38;5;130;43;01m\\\\\u001b[39;49;00m\u001b[38;5;124;43mUsers\u001b[39;49m\u001b[38;5;130;43;01m\\\\\u001b[39;49;00m\u001b[38;5;124;43mADMIN\u001b[39;49m\u001b[38;5;130;43;01m\\\\\u001b[39;49;00m\u001b[38;5;124;43mDesktop\u001b[39;49m\u001b[38;5;130;43;01m\\\\\u001b[39;49;00m\u001b[38;5;124;43mImpresionHttp\u001b[39;49m\u001b[38;5;130;43;01m\\\\\u001b[39;49;00m\u001b[38;5;124;43muploads\u001b[39;49m\u001b[38;5;130;43;01m\\\\\u001b[39;49;00m\u001b[38;5;124;43m71AED375E1E874E1A93BB3DE7773A5AC_labels.pdf\u001b[39;49m\u001b[38;5;124;43m\"\u001b[39;49m\u001b[43m,\u001b[49m\n",
      "\u001b[0;32m     10\u001b[0m \u001b[43m    \u001b[49m\u001b[38;5;28;43;01mNone\u001b[39;49;00m\u001b[43m,\u001b[49m\n",
      "\u001b[0;32m     11\u001b[0m \u001b[43m    \u001b[49m\u001b[38;5;124;43m\"\u001b[39;49m\u001b[38;5;124;43m.\u001b[39;49m\u001b[38;5;124;43m\"\u001b[39;49m\u001b[43m,\u001b[49m\n",
      "\u001b[0;32m     12\u001b[0m \u001b[43m    \u001b[49m\u001b[38;5;241;43m0\u001b[39;49m\n",
      "\u001b[0;32m     13\u001b[0m \u001b[43m)\u001b[49m\n",
      "\n",
      "\u001b[1;31merror\u001b[0m: (31, 'ShellExecute', 'Uno de los dispositivos conectados al sistema no funciona.')"
     ]
    }
   ],
   "source": [
    "import win32print\n",
    "import win32api\n",
    "\n",
    "printer_name = \"Beeprt BY-426BT\"\n",
    "win32print.SetDefaultPrinter(printer_name)\n",
    "win32api.ShellExecute(\n",
    "    0,\n",
    "    \"print\",\n",
    "    \"C:\\\\Users\\\\ADMIN\\\\Desktop\\\\ImpresionHttp\\\\uploads\\\\71AED375E1E874E1A93BB3DE7773A5AC_labels.pdf\",\n",
    "    None,\n",
    "    \".\",\n",
    "    0\n",
    ")"
   ]
  },
  {
   "cell_type": "code",
   "execution_count": null,
   "id": "59eeefef",
   "metadata": {},
   "outputs": [
    {
     "ename": "error",
     "evalue": "(31, 'ShellExecute', 'Uno de los dispositivos conectados al sistema no funciona.')",
     "output_type": "error",
     "traceback": [
      "\u001b[1;31m---------------------------------------------------------------------------\u001b[0m\n",
      "\u001b[1;31merror\u001b[0m                                     Traceback (most recent call last)\n",
      "Cell \u001b[1;32mIn[5], line 6\u001b[0m\n",
      "\u001b[0;32m      4\u001b[0m printer_name \u001b[38;5;241m=\u001b[39m \u001b[38;5;124m\"\u001b[39m\u001b[38;5;124mBeeprt BY-426BT\u001b[39m\u001b[38;5;124m\"\u001b[39m\n",
      "\u001b[0;32m      5\u001b[0m win32print\u001b[38;5;241m.\u001b[39mSetDefaultPrinter(printer_name)\n",
      "\u001b[1;32m----> 6\u001b[0m \u001b[43mwin32api\u001b[49m\u001b[38;5;241;43m.\u001b[39;49m\u001b[43mShellExecute\u001b[49m\u001b[43m(\u001b[49m\n",
      "\u001b[0;32m      7\u001b[0m \u001b[43m    \u001b[49m\u001b[38;5;241;43m0\u001b[39;49m\u001b[43m,\u001b[49m\n",
      "\u001b[0;32m      8\u001b[0m \u001b[43m    \u001b[49m\u001b[38;5;124;43m\"\u001b[39;49m\u001b[38;5;124;43mprint\u001b[39;49m\u001b[38;5;124;43m\"\u001b[39;49m\u001b[43m,\u001b[49m\n",
      "\u001b[0;32m      9\u001b[0m \u001b[43m    \u001b[49m\u001b[38;5;124;43m\"\u001b[39;49m\u001b[38;5;124;43mC:\u001b[39;49m\u001b[38;5;130;43;01m\\\\\u001b[39;49;00m\u001b[38;5;124;43mUsers\u001b[39;49m\u001b[38;5;130;43;01m\\\\\u001b[39;49;00m\u001b[38;5;124;43mADMIN\u001b[39;49m\u001b[38;5;130;43;01m\\\\\u001b[39;49;00m\u001b[38;5;124;43mDesktop\u001b[39;49m\u001b[38;5;130;43;01m\\\\\u001b[39;49;00m\u001b[38;5;124;43mImpresionHttp\u001b[39;49m\u001b[38;5;130;43;01m\\\\\u001b[39;49;00m\u001b[38;5;124;43muploads\u001b[39;49m\u001b[38;5;130;43;01m\\\\\u001b[39;49;00m\u001b[38;5;124;43m71AED375E1E874E1A93BB3DE7773A5AC_labels.pdf\u001b[39;49m\u001b[38;5;124;43m\"\u001b[39;49m\u001b[43m,\u001b[49m\n",
      "\u001b[0;32m     10\u001b[0m \u001b[43m    \u001b[49m\u001b[38;5;28;43;01mNone\u001b[39;49;00m\u001b[43m,\u001b[49m\n",
      "\u001b[0;32m     11\u001b[0m \u001b[43m    \u001b[49m\u001b[38;5;124;43m\"\u001b[39;49m\u001b[38;5;124;43m.\u001b[39;49m\u001b[38;5;124;43m\"\u001b[39;49m\u001b[43m,\u001b[49m\n",
      "\u001b[0;32m     12\u001b[0m \u001b[43m    \u001b[49m\u001b[38;5;241;43m0\u001b[39;49m\n",
      "\u001b[0;32m     13\u001b[0m \u001b[43m)\u001b[49m\n",
      "\n",
      "\u001b[1;31merror\u001b[0m: (31, 'ShellExecute', 'Uno de los dispositivos conectados al sistema no funciona.')"
     ]
    }
   ],
   "source": [
    "import win32print\n",
    "import win32api\n",
    "\n",
    "printer_name = \"Beeprt BY-426BT\"\n",
    "win32print.SetDefaultPrinter(printer_name)\n",
    "win32api.ShellExecute(\n",
    "    0,\n",
    "    \"print\",\n",
    "    \"C:\\\\Users\\\\ADMIN\\\\Desktop\\\\ImpresionHttp\\\\uploads\\\\71AED375E1E874E1A93BB3DE7773A5AC_labels.pdf\",\n",
    "    None,\n",
    "    \".\",\n",
    "    0\n",
    ")"
   ]
  }
 ],
 "metadata": {
  "kernelspec": {
   "display_name": "venv",
   "language": "python",
   "name": "python3"
  },
  "language_info": {
   "codemirror_mode": {
    "name": "ipython",
    "version": 3
   },
   "file_extension": ".py",
   "mimetype": "text/x-python",
   "name": "python",
   "nbconvert_exporter": "python",
   "pygments_lexer": "ipython3",
   "version": "3.9.13"
  }
 },
 "nbformat": 4,
 "nbformat_minor": 5
}
